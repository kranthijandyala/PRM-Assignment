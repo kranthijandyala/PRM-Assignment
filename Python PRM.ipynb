{
 "cells": [
  {
   "cell_type": "markdown",
   "id": "6fb47190",
   "metadata": {},
   "source": [
    "# You will have a number of elements and in the next n lines element of a list. You have to create a list from the given strings. You have to sort the list based on 2nd last character of a string.\n",
    "For example: given list = ['great','hello','hiyo','abc'] so your output_dictionary should be ['great', 'abc', 'hello','hiyo']\n",
    "Input Format:\n",
    "At first-line it will have an integer (number of elements inside a list). In the second line, it will have a string.\n",
    "Output Format:\n",
    "A single line containing a sorted list."
   ]
  },
  {
   "cell_type": "code",
   "execution_count": 1,
   "id": "1b0e598b",
   "metadata": {},
   "outputs": [
    {
     "name": "stdout",
     "output_type": "stream",
     "text": [
      "Enter the number of elements: 4\n",
      "Enter the Word: great\n",
      "Enter the Word: hello\n",
      "Enter the Word: abc\n",
      "Enter the Word: hiyo\n",
      "['great', 'abc', 'hello', 'hiyo']\n"
     ]
    }
   ],
   "source": [
    "x = int(input(\"Enter the number of elements: \"))\n",
    "list = []\n",
    "for i in range(x):\n",
    "    y = input(\"Enter the Word: \")\n",
    "    list.append(y)\n",
    "list.sort(key=lambda x: x[-2])\n",
    "print(list)"
   ]
  },
  {
   "cell_type": "markdown",
   "id": "6f0a300b",
   "metadata": {},
   "source": [
    "# Your task is to complete the validate_triangle and validate_rectangle functions for the classes. Hint for validating is given in the comments of the code. Also you will have to print the following after validation in respective functions:-\n",
    "\n",
    "1.Invalid Triangle: If the triangle sum property of sides is not valid(More hint in the comments of code)\n",
    "\n",
    "2.Valid Triangle: If the triangle sum property of sides is valid.\n",
    "\n",
    "3.Valid Rectangle: If 2 side pairs are same and they are input in correct order like l,b,l,b\n",
    "\n",
    "4.Invalid Rectangle: If Not Valid rectangle as stated above."
   ]
  },
  {
   "cell_type": "code",
   "execution_count": 3,
   "id": "4cec3d70",
   "metadata": {},
   "outputs": [
    {
     "name": "stdout",
     "output_type": "stream",
     "text": [
      "Valid Triangle\n",
      "Invalid Rectangle\n"
     ]
    }
   ],
   "source": [
    "class Triangle:\n",
    "    def __init__(self, a, b, c):\n",
    "        self.a = a\n",
    "        self.b = b\n",
    "        self.c = c\n",
    "    \n",
    "    def validate_triangle(self):\n",
    "        if self.a + self.b <= self.c or self.b + self.c <= self.a or self.c + self.a <= self.b:\n",
    "            print(\"Invalid Triangle\")\n",
    "        else:\n",
    "            print(\"Valid Triangle\")\n",
    "    \n",
    "class Rectangle:\n",
    "    def __init__(self,l,b,x,y):\n",
    "        self.l = l\n",
    "        self.b = b\n",
    "        self.x = x\n",
    "        self.y = y\n",
    "    \n",
    "    def validate_rectangle(self):\n",
    "        if self.l != self.x or self.b != self.y :\n",
    "            print(\"Invalid Rectangle\")\n",
    "        elif 2*(self.l + self.b):\n",
    "            print(\"Valid Rectangle\")\n",
    "        else:\n",
    "            print(\"Invalid Rectangle\")\n",
    "\n",
    "            \n",
    "m = Triangle(3,4,5)\n",
    "m.validate_triangle()\n",
    "n = Rectangle(2,4,2,5)\n",
    "n.validate_rectangle()"
   ]
  },
  {
   "cell_type": "code",
   "execution_count": null,
   "id": "de1df5ab",
   "metadata": {},
   "outputs": [],
   "source": []
  }
 ],
 "metadata": {
  "kernelspec": {
   "display_name": "Python 3 (ipykernel)",
   "language": "python",
   "name": "python3"
  },
  "language_info": {
   "codemirror_mode": {
    "name": "ipython",
    "version": 3
   },
   "file_extension": ".py",
   "mimetype": "text/x-python",
   "name": "python",
   "nbconvert_exporter": "python",
   "pygments_lexer": "ipython3",
   "version": "3.9.13"
  }
 },
 "nbformat": 4,
 "nbformat_minor": 5
}
